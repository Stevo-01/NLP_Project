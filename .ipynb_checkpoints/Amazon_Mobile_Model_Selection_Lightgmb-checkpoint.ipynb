{
 "cells": [
  {
   "cell_type": "code",
   "execution_count": 9,
   "metadata": {
    "executionInfo": {
     "elapsed": 297,
     "status": "ok",
     "timestamp": 1642299228429,
     "user": {
      "displayName": "Steph O",
      "photoUrl": "https://lh3.googleusercontent.com/a/default-user=s64",
      "userId": "03497181796246204590"
     },
     "user_tz": -480
    },
    "id": "UGxjsC9WSRls"
   },
   "outputs": [],
   "source": [
    "import pandas as pd\n",
    "import numpy as np\n",
    "\n",
    "from sklearn.metrics import confusion_matrix,classification_report,accuracy_score\n",
    "from sklearn.metrics import accuracy_score\n",
    "from sklearn.datasets import make_classification\n",
    "from sklearn.model_selection import cross_val_score\n",
    "from sklearn import metrics\n",
    "from sklearn.metrics import classification_report\n",
    "from sklearn.model_selection import cross_val_score\n",
    "from sklearn.metrics import roc_auc_score\n",
    "from sklearn.metrics import roc_curve, auc"
   ]
  },
  {
   "cell_type": "code",
   "execution_count": 10,
   "metadata": {
    "colab": {
     "base_uri": "https://localhost:8080/"
    },
    "executionInfo": {
     "elapsed": 2764,
     "status": "ok",
     "timestamp": 1642299234131,
     "user": {
      "displayName": "Steph O",
      "photoUrl": "https://lh3.googleusercontent.com/a/default-user=s64",
      "userId": "03497181796246204590"
     },
     "user_tz": -480
    },
    "id": "oIFXcdsOBHyZ",
    "outputId": "a991d338-4ae0-4c72-9b5f-4ab46e1f626f"
   },
   "outputs": [
    {
     "name": "stdout",
     "output_type": "stream",
     "text": [
      "Drive already mounted at /content/drive; to attempt to forcibly remount, call drive.mount(\"/content/drive\", force_remount=True).\n"
     ]
    }
   ],
   "source": [
    "from google.colab import drive\n",
    "drive.mount('/content/drive')"
   ]
  },
  {
   "cell_type": "code",
   "execution_count": 13,
   "metadata": {
    "colab": {
     "base_uri": "https://localhost:8080/",
     "height": 496
    },
    "executionInfo": {
     "elapsed": 2665,
     "status": "ok",
     "timestamp": 1642299838018,
     "user": {
      "displayName": "Steph O",
      "photoUrl": "https://lh3.googleusercontent.com/a/default-user=s64",
      "userId": "03497181796246204590"
     },
     "user_tz": -480
    },
    "id": "9Iyb9vvXBB_X",
    "outputId": "0bdb8a96-21cb-4a4f-ba58-40f9b752fce0"
   },
   "outputs": [
    {
     "data": {
      "text/html": [
       "\n",
       "  <div id=\"df-4c8197a2-92b6-407d-aa15-94ae07948885\">\n",
       "    <div class=\"colab-df-container\">\n",
       "      <div>\n",
       "<style scoped>\n",
       "    .dataframe tbody tr th:only-of-type {\n",
       "        vertical-align: middle;\n",
       "    }\n",
       "\n",
       "    .dataframe tbody tr th {\n",
       "        vertical-align: top;\n",
       "    }\n",
       "\n",
       "    .dataframe thead th {\n",
       "        text-align: right;\n",
       "    }\n",
       "</style>\n",
       "<table border=\"1\" class=\"dataframe\">\n",
       "  <thead>\n",
       "    <tr style=\"text-align: right;\">\n",
       "      <th></th>\n",
       "      <th>review_body</th>\n",
       "      <th>star_rating</th>\n",
       "      <th>vine</th>\n",
       "      <th>verified_purchase</th>\n",
       "      <th>subjectivity</th>\n",
       "      <th>polarity</th>\n",
       "      <th>s_subjectivity</th>\n",
       "      <th>s_polarity</th>\n",
       "      <th>sentiment</th>\n",
       "      <th>s_sentiment</th>\n",
       "      <th>character_count</th>\n",
       "      <th>word_count</th>\n",
       "      <th>s_word_count</th>\n",
       "      <th>unique_word_count</th>\n",
       "      <th>syllable_count</th>\n",
       "      <th>flesch_reading_ease</th>\n",
       "      <th>flesch_kincaid_grade</th>\n",
       "      <th>automated_readability_index</th>\n",
       "      <th>coleman_liau_index</th>\n",
       "      <th>linsear_write_formula</th>\n",
       "      <th>dale_chall_readability_score</th>\n",
       "      <th>noun_count</th>\n",
       "      <th>verb_count</th>\n",
       "      <th>adv_count</th>\n",
       "      <th>adj_count</th>\n",
       "      <th>helpfulness</th>\n",
       "    </tr>\n",
       "  </thead>\n",
       "  <tbody>\n",
       "    <tr>\n",
       "      <th>0</th>\n",
       "      <td>advertised everything works perfectly im happy...</td>\n",
       "      <td>5.0</td>\n",
       "      <td>0</td>\n",
       "      <td>1</td>\n",
       "      <td>1.000000</td>\n",
       "      <td>0.800000</td>\n",
       "      <td>1.00</td>\n",
       "      <td>0.8</td>\n",
       "      <td>2</td>\n",
       "      <td>2</td>\n",
       "      <td>94</td>\n",
       "      <td>15</td>\n",
       "      <td>1</td>\n",
       "      <td>14</td>\n",
       "      <td>27</td>\n",
       "      <td>39.33</td>\n",
       "      <td>11.5</td>\n",
       "      <td>11.2</td>\n",
       "      <td>13.04</td>\n",
       "      <td>11.5</td>\n",
       "      <td>9.64</td>\n",
       "      <td>6</td>\n",
       "      <td>4</td>\n",
       "      <td>1</td>\n",
       "      <td>1</td>\n",
       "      <td>0</td>\n",
       "    </tr>\n",
       "    <tr>\n",
       "      <th>1</th>\n",
       "      <td>great</td>\n",
       "      <td>5.0</td>\n",
       "      <td>0</td>\n",
       "      <td>1</td>\n",
       "      <td>0.750000</td>\n",
       "      <td>0.800000</td>\n",
       "      <td>0.00</td>\n",
       "      <td>0.0</td>\n",
       "      <td>2</td>\n",
       "      <td>1</td>\n",
       "      <td>5</td>\n",
       "      <td>1</td>\n",
       "      <td>2</td>\n",
       "      <td>1</td>\n",
       "      <td>1</td>\n",
       "      <td>121.22</td>\n",
       "      <td>-3.5</td>\n",
       "      <td>2.6</td>\n",
       "      <td>-16.41</td>\n",
       "      <td>-0.5</td>\n",
       "      <td>0.05</td>\n",
       "      <td>0</td>\n",
       "      <td>0</td>\n",
       "      <td>0</td>\n",
       "      <td>1</td>\n",
       "      <td>0</td>\n",
       "    </tr>\n",
       "    <tr>\n",
       "      <th>2</th>\n",
       "      <td>work great fit life proof case iphone</td>\n",
       "      <td>5.0</td>\n",
       "      <td>0</td>\n",
       "      <td>1</td>\n",
       "      <td>0.575000</td>\n",
       "      <td>0.600000</td>\n",
       "      <td>0.75</td>\n",
       "      <td>0.8</td>\n",
       "      <td>2</td>\n",
       "      <td>2</td>\n",
       "      <td>37</td>\n",
       "      <td>7</td>\n",
       "      <td>2</td>\n",
       "      <td>7</td>\n",
       "      <td>7</td>\n",
       "      <td>115.13</td>\n",
       "      <td>-1.2</td>\n",
       "      <td>2.9</td>\n",
       "      <td>5.75</td>\n",
       "      <td>2.5</td>\n",
       "      <td>8.50</td>\n",
       "      <td>5</td>\n",
       "      <td>0</td>\n",
       "      <td>0</td>\n",
       "      <td>2</td>\n",
       "      <td>0</td>\n",
       "    </tr>\n",
       "    <tr>\n",
       "      <th>3</th>\n",
       "      <td>work well couldnt get used hearing anything ea...</td>\n",
       "      <td>4.0</td>\n",
       "      <td>0</td>\n",
       "      <td>1</td>\n",
       "      <td>0.000000</td>\n",
       "      <td>0.000000</td>\n",
       "      <td>0.00</td>\n",
       "      <td>0.0</td>\n",
       "      <td>1</td>\n",
       "      <td>1</td>\n",
       "      <td>55</td>\n",
       "      <td>9</td>\n",
       "      <td>6</td>\n",
       "      <td>9</td>\n",
       "      <td>12</td>\n",
       "      <td>87.72</td>\n",
       "      <td>3.3</td>\n",
       "      <td>7.7</td>\n",
       "      <td>11.22</td>\n",
       "      <td>3.5</td>\n",
       "      <td>7.59</td>\n",
       "      <td>3</td>\n",
       "      <td>3</td>\n",
       "      <td>1</td>\n",
       "      <td>2</td>\n",
       "      <td>0</td>\n",
       "    </tr>\n",
       "    <tr>\n",
       "      <th>4</th>\n",
       "      <td>careful products bought several cameras image ...</td>\n",
       "      <td>2.0</td>\n",
       "      <td>0</td>\n",
       "      <td>1</td>\n",
       "      <td>0.666667</td>\n",
       "      <td>0.079167</td>\n",
       "      <td>0.00</td>\n",
       "      <td>0.0</td>\n",
       "      <td>2</td>\n",
       "      <td>1</td>\n",
       "      <td>86</td>\n",
       "      <td>12</td>\n",
       "      <td>3</td>\n",
       "      <td>12</td>\n",
       "      <td>22</td>\n",
       "      <td>42.38</td>\n",
       "      <td>10.3</td>\n",
       "      <td>14.0</td>\n",
       "      <td>18.08</td>\n",
       "      <td>6.0</td>\n",
       "      <td>12.13</td>\n",
       "      <td>6</td>\n",
       "      <td>2</td>\n",
       "      <td>1</td>\n",
       "      <td>3</td>\n",
       "      <td>0</td>\n",
       "    </tr>\n",
       "  </tbody>\n",
       "</table>\n",
       "</div>\n",
       "      <button class=\"colab-df-convert\" onclick=\"convertToInteractive('df-4c8197a2-92b6-407d-aa15-94ae07948885')\"\n",
       "              title=\"Convert this dataframe to an interactive table.\"\n",
       "              style=\"display:none;\">\n",
       "        \n",
       "  <svg xmlns=\"http://www.w3.org/2000/svg\" height=\"24px\"viewBox=\"0 0 24 24\"\n",
       "       width=\"24px\">\n",
       "    <path d=\"M0 0h24v24H0V0z\" fill=\"none\"/>\n",
       "    <path d=\"M18.56 5.44l.94 2.06.94-2.06 2.06-.94-2.06-.94-.94-2.06-.94 2.06-2.06.94zm-11 1L8.5 8.5l.94-2.06 2.06-.94-2.06-.94L8.5 2.5l-.94 2.06-2.06.94zm10 10l.94 2.06.94-2.06 2.06-.94-2.06-.94-.94-2.06-.94 2.06-2.06.94z\"/><path d=\"M17.41 7.96l-1.37-1.37c-.4-.4-.92-.59-1.43-.59-.52 0-1.04.2-1.43.59L10.3 9.45l-7.72 7.72c-.78.78-.78 2.05 0 2.83L4 21.41c.39.39.9.59 1.41.59.51 0 1.02-.2 1.41-.59l7.78-7.78 2.81-2.81c.8-.78.8-2.07 0-2.86zM5.41 20L4 18.59l7.72-7.72 1.47 1.35L5.41 20z\"/>\n",
       "  </svg>\n",
       "      </button>\n",
       "      \n",
       "  <style>\n",
       "    .colab-df-container {\n",
       "      display:flex;\n",
       "      flex-wrap:wrap;\n",
       "      gap: 12px;\n",
       "    }\n",
       "\n",
       "    .colab-df-convert {\n",
       "      background-color: #E8F0FE;\n",
       "      border: none;\n",
       "      border-radius: 50%;\n",
       "      cursor: pointer;\n",
       "      display: none;\n",
       "      fill: #1967D2;\n",
       "      height: 32px;\n",
       "      padding: 0 0 0 0;\n",
       "      width: 32px;\n",
       "    }\n",
       "\n",
       "    .colab-df-convert:hover {\n",
       "      background-color: #E2EBFA;\n",
       "      box-shadow: 0px 1px 2px rgba(60, 64, 67, 0.3), 0px 1px 3px 1px rgba(60, 64, 67, 0.15);\n",
       "      fill: #174EA6;\n",
       "    }\n",
       "\n",
       "    [theme=dark] .colab-df-convert {\n",
       "      background-color: #3B4455;\n",
       "      fill: #D2E3FC;\n",
       "    }\n",
       "\n",
       "    [theme=dark] .colab-df-convert:hover {\n",
       "      background-color: #434B5C;\n",
       "      box-shadow: 0px 1px 3px 1px rgba(0, 0, 0, 0.15);\n",
       "      filter: drop-shadow(0px 1px 2px rgba(0, 0, 0, 0.3));\n",
       "      fill: #FFFFFF;\n",
       "    }\n",
       "  </style>\n",
       "\n",
       "      <script>\n",
       "        const buttonEl =\n",
       "          document.querySelector('#df-4c8197a2-92b6-407d-aa15-94ae07948885 button.colab-df-convert');\n",
       "        buttonEl.style.display =\n",
       "          google.colab.kernel.accessAllowed ? 'block' : 'none';\n",
       "\n",
       "        async function convertToInteractive(key) {\n",
       "          const element = document.querySelector('#df-4c8197a2-92b6-407d-aa15-94ae07948885');\n",
       "          const dataTable =\n",
       "            await google.colab.kernel.invokeFunction('convertToInteractive',\n",
       "                                                     [key], {});\n",
       "          if (!dataTable) return;\n",
       "\n",
       "          const docLinkHtml = 'Like what you see? Visit the ' +\n",
       "            '<a target=\"_blank\" href=https://colab.research.google.com/notebooks/data_table.ipynb>data table notebook</a>'\n",
       "            + ' to learn more about interactive tables.';\n",
       "          element.innerHTML = '';\n",
       "          dataTable['output_type'] = 'display_data';\n",
       "          await google.colab.output.renderOutput(dataTable, element);\n",
       "          const docLink = document.createElement('div');\n",
       "          docLink.innerHTML = docLinkHtml;\n",
       "          element.appendChild(docLink);\n",
       "        }\n",
       "      </script>\n",
       "    </div>\n",
       "  </div>\n",
       "  "
      ],
      "text/plain": [
       "                                         review_body  ...  helpfulness\n",
       "0  advertised everything works perfectly im happy...  ...            0\n",
       "1                                              great  ...            0\n",
       "2              work great fit life proof case iphone  ...            0\n",
       "3  work well couldnt get used hearing anything ea...  ...            0\n",
       "4  careful products bought several cameras image ...  ...            0\n",
       "\n",
       "[5 rows x 26 columns]"
      ]
     },
     "execution_count": 13,
     "metadata": {},
     "output_type": "execute_result"
    }
   ],
   "source": [
    "df_clean = pd.read_csv('/content/drive/MyDrive/Colab Notebooks/Amazon_mobile_clean.csv')\n",
    "df_clean.head()"
   ]
  },
  {
   "cell_type": "code",
   "execution_count": 14,
   "metadata": {
    "executionInfo": {
     "elapsed": 13759,
     "status": "ok",
     "timestamp": 1642299860804,
     "user": {
      "displayName": "Steph O",
      "photoUrl": "https://lh3.googleusercontent.com/a/default-user=s64",
      "userId": "03497181796246204590"
     },
     "user_tz": -480
    },
    "id": "dS-v7EFvppMn"
   },
   "outputs": [],
   "source": [
    "from sklearn.feature_extraction.text import TfidfVectorizer\n",
    "\n",
    "tfidf_vectorizer = TfidfVectorizer(max_features=10000,ngram_range=(2,2))\n",
    "# TF-IDF feature matrix\n",
    "tfidf_idf = tfidf_vectorizer.fit_transform(df_clean['review_body'].values.astype('str'))"
   ]
  },
  {
   "cell_type": "code",
   "execution_count": 15,
   "metadata": {
    "colab": {
     "base_uri": "https://localhost:8080/"
    },
    "executionInfo": {
     "elapsed": 291,
     "status": "ok",
     "timestamp": 1642300047917,
     "user": {
      "displayName": "Steph O",
      "photoUrl": "https://lh3.googleusercontent.com/a/default-user=s64",
      "userId": "03497181796246204590"
     },
     "user_tz": -480
    },
    "id": "p-ll6UlzpxYP",
    "outputId": "3e2860c6-e7cb-4af5-9a4e-228c8523dc43"
   },
   "outputs": [
    {
     "data": {
      "text/plain": [
       "<104847x10000 sparse matrix of type '<class 'numpy.float64'>'\n",
       "\twith 717445 stored elements in Compressed Sparse Row format>"
      ]
     },
     "execution_count": 15,
     "metadata": {},
     "output_type": "execute_result"
    }
   ],
   "source": [
    "tfidf_idf"
   ]
  },
  {
   "cell_type": "code",
   "execution_count": 16,
   "metadata": {
    "colab": {
     "base_uri": "https://localhost:8080/"
    },
    "executionInfo": {
     "elapsed": 311,
     "status": "ok",
     "timestamp": 1642300049906,
     "user": {
      "displayName": "Steph O",
      "photoUrl": "https://lh3.googleusercontent.com/a/default-user=s64",
      "userId": "03497181796246204590"
     },
     "user_tz": -480
    },
    "id": "3OOXTkX_p448",
    "outputId": "78cab07e-1d1d-4f1c-a999-7442b691178f"
   },
   "outputs": [
    {
     "data": {
      "text/plain": [
       "<104847x10024 sparse matrix of type '<class 'numpy.float64'>'\n",
       "\twith 2940202 stored elements in Compressed Sparse Row format>"
      ]
     },
     "execution_count": 16,
     "metadata": {},
     "output_type": "execute_result"
    }
   ],
   "source": [
    "# Here we are using all the features except the helpfulness ratio which is the target column for our model\n",
    "\n",
    "from scipy.sparse import hstack, csr_matrix\n",
    "\n",
    "meta_features = [\n",
    "'star_rating',\n",
    "'vine',\n",
    "'verified_purchase',\n",
    "'subjectivity',\n",
    "'polarity',\n",
    "'s_subjectivity',\n",
    "'s_polarity',\n",
    "'sentiment',\n",
    "'s_sentiment',\n",
    "'character_count',\n",
    "'word_count',\n",
    "'s_word_count',\n",
    "'unique_word_count',\n",
    "'syllable_count',\n",
    "'flesch_reading_ease',\n",
    "'flesch_kincaid_grade',\n",
    "'automated_readability_index',\n",
    "'coleman_liau_index',\n",
    "'linsear_write_formula',\n",
    "'dale_chall_readability_score',\n",
    "'noun_count',\n",
    "'verb_count',\n",
    "'adv_count',\n",
    "'adj_count']\n",
    "\n",
    "feature_set1 = df_clean[meta_features]\n",
    "\n",
    "train = hstack([tfidf_idf, csr_matrix(feature_set1)], \"csr\")\n",
    "train"
   ]
  },
  {
   "cell_type": "code",
   "execution_count": 17,
   "metadata": {
    "executionInfo": {
     "elapsed": 326,
     "status": "ok",
     "timestamp": 1642300057193,
     "user": {
      "displayName": "Steph O",
      "photoUrl": "https://lh3.googleusercontent.com/a/default-user=s64",
      "userId": "03497181796246204590"
     },
     "user_tz": -480
    },
    "id": "p2djd1E_CWdi"
   },
   "outputs": [],
   "source": [
    "target = df_clean['helpfulness'].values"
   ]
  },
  {
   "cell_type": "code",
   "execution_count": 18,
   "metadata": {
    "executionInfo": {
     "elapsed": 1,
     "status": "ok",
     "timestamp": 1642300057689,
     "user": {
      "displayName": "Steph O",
      "photoUrl": "https://lh3.googleusercontent.com/a/default-user=s64",
      "userId": "03497181796246204590"
     },
     "user_tz": -480
    },
    "id": "Lfx60untCbS5"
   },
   "outputs": [],
   "source": [
    "# Defining the X\n",
    "X = train\n",
    "## defining the target columns\n",
    "y = target"
   ]
  },
  {
   "cell_type": "code",
   "execution_count": 19,
   "metadata": {
    "colab": {
     "base_uri": "https://localhost:8080/"
    },
    "executionInfo": {
     "elapsed": 47314,
     "status": "ok",
     "timestamp": 1642300108686,
     "user": {
      "displayName": "Steph O",
      "photoUrl": "https://lh3.googleusercontent.com/a/default-user=s64",
      "userId": "03497181796246204590"
     },
     "user_tz": -480
    },
    "id": "Pn71njg7CgRV",
    "outputId": "04b563e6-9e33-45b2-a85c-16c35f0a1dd9"
   },
   "outputs": [
    {
     "name": "stdout",
     "output_type": "stream",
     "text": [
      "Original dataset shape : Counter({0: 78054, 1: 26793})\n",
      "Resampled dataset shape Counter({0: 78054, 1: 78054})\n"
     ]
    }
   ],
   "source": [
    "from collections import Counter\n",
    "from imblearn.over_sampling import SMOTE\n",
    "\n",
    "print(f'Original dataset shape : {Counter(y)}')\n",
    "\n",
    "smote = SMOTE(random_state=130)\n",
    "X_res, y_res = smote.fit_resample(X, y)\n",
    "\n",
    "print(f'Resampled dataset shape {Counter(y_res)}')"
   ]
  },
  {
   "cell_type": "code",
   "execution_count": 20,
   "metadata": {
    "executionInfo": {
     "elapsed": 308,
     "status": "ok",
     "timestamp": 1642300117182,
     "user": {
      "displayName": "Steph O",
      "photoUrl": "https://lh3.googleusercontent.com/a/default-user=s64",
      "userId": "03497181796246204590"
     },
     "user_tz": -480
    },
    "id": "O0bezE0dCuRa"
   },
   "outputs": [],
   "source": [
    "from sklearn.model_selection import train_test_split\n",
    "X_train, X_test, y_train, y_test = train_test_split(X_res, y_res, test_size = 0.25, random_state=0)"
   ]
  },
  {
   "cell_type": "code",
   "execution_count": 21,
   "metadata": {
    "executionInfo": {
     "elapsed": 295,
     "status": "ok",
     "timestamp": 1642300119936,
     "user": {
      "displayName": "Steph O",
      "photoUrl": "https://lh3.googleusercontent.com/a/default-user=s64",
      "userId": "03497181796246204590"
     },
     "user_tz": -480
    },
    "id": "pkQke8WTRpgt"
   },
   "outputs": [],
   "source": [
    "# Define a function to plot the ROC/AUC\n",
    "def evbiclas(model,cr=0):\n",
    "  preds = model.predict(X_test)\n",
    "  print('\\n'+'\\033[1m'+type(model).__name__+'\\033[0;0m')    \n",
    "  print(\"----------------------------------\")\n",
    "  print(\"\\nTrain Accuracy:\",\"{:.2f}\".format(model.score(X_train, y_train)*100))\n",
    "\n",
    "  print(\"\\nTest Accuracy:\", \"{:.2f}\".format(model.score(X_test, y_test)*100))\n",
    "\n",
    "  print(\"\\nClassification report:\")\n",
    "  print(classification_report(preds, y_test))\n",
    "\n",
    "  print(\"\\nConfusion matrix:\")\n",
    "  # Creating the confusion matrix\n",
    "  cm = confusion_matrix(preds, y_test)\n",
    "  # Assigning columns names\n",
    "  cm_df = pd.DataFrame(cm, \n",
    "              columns = ['Predicted Positive','Predicted Negative'],\n",
    "              index = [ 'Actual Positive','Actual Negative'])\n",
    "  print(cm_df)\n",
    "  print(\"----------------------------------\")\n",
    "  sensitivity1 = cm[0,0]/(cm[0,0]+cm[0,1])\n",
    "  print('\\nSensitivity : ',\"{:.2f}\".format(sensitivity1*100))\n",
    "\n",
    "  specificity1 = cm[1,1]/(cm[1,0]+cm[1,1])\n",
    "  print('Specificity : ', \"{:.2f}\".format(specificity1*100))\n",
    "  print(\"\\nROC / AUC:\")\n",
    "\n",
    "\n",
    "  probabilities = model.predict_proba(X_test)\n",
    "  probabilities = probabilities[:, 1]  # keep probabilities for first class only\n",
    "        \n",
    "  # Compute the ROC curve\n",
    "  fpr, tpr, thresholds = roc_curve(y_test, probabilities)    \n",
    "  plt.figure(figsize = (10,7))\n",
    "  plt.title(f\"ROC Curve with AUC = {str(round(roc_auc_score(y_test, probabilities),3))}\", fontsize=22)\n",
    "  # Plot the \"dumb model\" line\n",
    "  plt.plot([0, 1], [0, 1], linestyle='--',label='baseline')\n",
    "    \n",
    "  # Plot the model line\n",
    "  plt.plot(fpr, tpr, marker='.',label='ROC Curve')\n",
    "  plt.text(0.75, 0.25, \"AUC: \" + str(round(roc_auc_score(y_test, probabilities),3)),fontsize=18)\n",
    "    \n",
    "  plt.ylabel('Sensitivity', fontsize=18)\n",
    "  plt.xlabel('1 - Specificity', fontsize=18)\n",
    "\n",
    "  plt.legend(fontsize=16)\n",
    "    \n",
    "  # show the plot\n",
    "  plt.show();\n",
    "\n",
    "\n",
    "\n",
    "\n",
    "  print(\"\\n----------------------------------\")\n",
    "  print(\"\\nCross Validation 10K fold Result\")\n",
    "  print('\\n')\n",
    "  if type(cr)==int:\n",
    "    print('\\033[1m*Cross validation Result Not avaible*\\033[0;0m')\n",
    "  else:\n",
    "    ud=1\n",
    "    for i in cr:\n",
    "      print('K',ud,':',\"{:.2f}\".format(i*100))\n",
    "      ud=ud+1\n",
    "  print(\"\\n----------------------------------\")\n",
    "  print('The Model Parameters:','\\n',model.get_params())"
   ]
  },
  {
   "cell_type": "markdown",
   "metadata": {
    "id": "UcWTNANkUHyN"
   },
   "source": [
    "##### LGBM Classifier\n",
    "##### Accuracy 82.8%"
   ]
  },
  {
   "cell_type": "code",
   "execution_count": 22,
   "metadata": {
    "colab": {
     "base_uri": "https://localhost:8080/",
     "height": 1000
    },
    "executionInfo": {
     "elapsed": 29799,
     "status": "ok",
     "timestamp": 1642300183375,
     "user": {
      "displayName": "Steph O",
      "photoUrl": "https://lh3.googleusercontent.com/a/default-user=s64",
      "userId": "03497181796246204590"
     },
     "user_tz": -480
    },
    "id": "C6iApEKzDM6g",
    "outputId": "e209ccef-bb44-44b5-c9c6-334f8fcdba40"
   },
   "outputs": [
    {
     "name": "stdout",
     "output_type": "stream",
     "text": [
      "\n",
      "\u001b[1mLGBMClassifier\u001b[0;0m\n",
      "----------------------------------\n",
      "\n",
      "Train Accuracy: 84.32\n",
      "\n",
      "Test Accuracy: 83.36\n",
      "\n",
      "Classification report:\n",
      "              precision    recall  f1-score   support\n",
      "\n",
      "           0       0.94      0.77      0.85     23611\n",
      "           1       0.73      0.93      0.81     15416\n",
      "\n",
      "    accuracy                           0.83     39027\n",
      "   macro avg       0.83      0.85      0.83     39027\n",
      "weighted avg       0.86      0.83      0.84     39027\n",
      "\n",
      "\n",
      "Confusion matrix:\n",
      "                 Predicted Positive  Predicted Negative\n",
      "Actual Positive               18226                5385\n",
      "Actual Negative                1110               14306\n",
      "----------------------------------\n",
      "\n",
      "Sensitivity :  77.19\n",
      "Specificity :  92.80\n",
      "\n",
      "ROC / AUC:\n"
     ]
    },
    {
     "data": {
      "image/png": "[encoded data removed]",
      "text/plain": [
       "<Figure size 720x504 with 1 Axes>"
      ]
     },
     "metadata": {
      "needs_background": "light"
     },
     "output_type": "display_data"
    },
    {
     "name": "stdout",
     "output_type": "stream",
     "text": [
      "\n",
      "----------------------------------\n",
      "\n",
      "Cross Validation 10K fold Result\n",
      "\n",
      "\n",
      "\u001b[1m*Cross validation Result Not avaible*\u001b[0;0m\n",
      "\n",
      "----------------------------------\n",
      "The Model Parameters: \n",
      " {'boosting_type': 'gbdt', 'class_weight': None, 'colsample_bytree': 1.0, 'importance_type': 'split', 'learning_rate': 0.1, 'max_depth': -1, 'min_child_samples': 20, 'min_child_weight': 0.001, 'min_split_gain': 0.0, 'n_estimators': 100, 'n_jobs': -1, 'num_leaves': 31, 'objective': None, 'random_state': None, 'reg_alpha': 0.0, 'reg_lambda': 0.0, 'silent': True, 'subsample': 1.0, 'subsample_for_bin': 200000, 'subsample_freq': 0}\n"
     ]
    }
   ],
   "source": [
    "\n",
    "import lightgbm as lgb\n",
    "import matplotlib.pyplot as plt\n",
    "model = lgb.LGBMClassifier()\n",
    "model.fit(X_train, y_train)\n",
    "preds = model.predict(X_test)\n",
    "evbiclas(model)\n"
   ]
  },
  {
   "cell_type": "markdown",
   "metadata": {
    "id": "vlmuzgHsU3Ps"
   },
   "source": [
    "## LGBM Classifier is one of our best performance with above 80percent accuracy."
   ]
  },
  {
   "cell_type": "code",
   "execution_count": null,
   "metadata": {
    "id": "rOTfVw2-EjLt"
   },
   "outputs": [],
   "source": []
  }
 ],
 "metadata": {
  "accelerator": "GPU",
  "colab": {
   "authorship_tag": "ABX9TyNxYEMCp9nsjSCszjkCR3rR",
   "collapsed_sections": [],
   "machine_shape": "hm",
   "name": "Amazon_Mobile_Model_Selection_Lightgmb.ipynb",
   "provenance": []
  },
  "kernelspec": {
   "display_name": "Python 3",
   "language": "python",
   "name": "python3"
  },
  "language_info": {
   "codemirror_mode": {
    "name": "ipython",
    "version": 3
   },
   "file_extension": ".py",
   "mimetype": "text/x-python",
   "name": "python",
   "nbconvert_exporter": "python",
   "pygments_lexer": "ipython3",
   "version": "3.8.3"
  }
 },
 "nbformat": 4,
 "nbformat_minor": 1
}
